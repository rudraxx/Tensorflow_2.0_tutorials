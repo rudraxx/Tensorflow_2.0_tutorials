{
 "cells": [
  {
   "cell_type": "code",
   "execution_count": 28,
   "metadata": {},
   "outputs": [],
   "source": [
    "# Single layer perceptron\n",
    "\n",
    "import numpy as np\n",
    "from sklearn.datasets import load_iris\n",
    "from sklearn.linear_model import Perceptron\n",
    "\n",
    "import matplotlib.pyplot as plt"
   ]
  },
  {
   "cell_type": "code",
   "execution_count": 56,
   "metadata": {
    "scrolled": false
   },
   "outputs": [
    {
     "name": "stdout",
     "output_type": "stream",
     "text": [
      "data type of the iris data set : <class 'sklearn.utils.Bunch'>\n",
      "Keys in the dataset: ['DESCR', 'data', 'feature_names', 'filename', 'target', 'target_names']\n",
      "(150,)\n",
      "number of classes: [0 1 2]\n"
     ]
    },
    {
     "data": {
      "text/plain": [
       "<matplotlib.collections.PathCollection at 0x27cca561f60>"
      ]
     },
     "execution_count": 56,
     "metadata": {},
     "output_type": "execute_result"
    },
    {
     "data": {
      "image/png": "[encoded data removed]",
      "text/plain": [
       "<Figure size 432x288 with 4 Axes>"
      ]
     },
     "metadata": {
      "needs_background": "light"
     },
     "output_type": "display_data"
    }
   ],
   "source": [
    "iris = load_iris()\n",
    "\n",
    "#Explore the datset\n",
    "print(\"data type of the iris data set : {}\".format(type(iris)))\n",
    "print(\"Keys in the dataset: {}\".format(dir(iris)))\n",
    "\n",
    "target_vals = iris.target\n",
    "print(target_vals.shape)\n",
    "\n",
    "#Number of classes\n",
    "print(\"number of classes: {}\".format(np.unique(target_vals)))\n",
    "\n",
    "#Plot the data\n",
    "\n",
    "plt.subplot(221)\n",
    "plt.scatter(iris.data[:,0],iris.data[:,1])\n",
    "\n",
    "plt.subplot(222)\n",
    "plt.scatter(iris.data[:,0],iris.data[:,2])\n",
    "\n",
    "plt.subplot(223)\n",
    "plt.scatter(iris.data[:,0],iris.data[:,3])\n",
    "\n",
    "plt.subplot(224)\n",
    "plt.scatter(iris.data[:,0],iris.target)\n",
    "\n"
   ]
  },
  {
   "cell_type": "code",
   "execution_count": 59,
   "metadata": {},
   "outputs": [
    {
     "name": "stdout",
     "output_type": "stream",
     "text": [
      "[0]\n"
     ]
    }
   ],
   "source": [
    "X = iris.data[:,[2,3]] # petal lenght, petal width\n",
    "\n",
    "#Get the data in np.int data type. Here is already is in that data type.\n",
    "y = (iris.target==0).astype(np.int)#.astype(np.int) #iris setosa\n",
    "\n",
    "per_clf = Perceptron()\n",
    "per_clf.fit(X,y)\n",
    "\n",
    "y_pred = per_clf.predict([[2,0.5]])\n",
    "\n",
    "print(y_pred)"
   ]
  },
  {
   "cell_type": "code",
   "execution_count": null,
   "metadata": {},
   "outputs": [],
   "source": []
  }
 ],
 "metadata": {
  "kernelspec": {
   "display_name": "Python 3.6 (tensorflow)",
   "language": "python",
   "name": "tensorflow"
  },
  "language_info": {
   "codemirror_mode": {
    "name": "ipython",
    "version": 3
   },
   "file_extension": ".py",
   "mimetype": "text/x-python",
   "name": "python",
   "nbconvert_exporter": "python",
   "pygments_lexer": "ipython3",
   "version": "3.6.9"
  }
 },
 "nbformat": 4,
 "nbformat_minor": 2
}
