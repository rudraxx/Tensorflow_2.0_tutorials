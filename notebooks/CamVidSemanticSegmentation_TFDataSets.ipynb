{
 "cells": [
  {
   "cell_type": "markdown",
   "metadata": {},
   "source": [
    "# Multiclass Semantic Segmentation using CamVid dataset"
   ]
  },
  {
   "cell_type": "code",
   "execution_count": 1,
   "metadata": {},
   "outputs": [],
   "source": [
    "#Importing libraries\n",
    "import tensorflow as tf\n",
    "from tensorflow import keras\n",
    "import numpy as np\n",
    "import matplotlib.pyplot as plt\n",
    "\n",
    "import os\n",
    "import random\n"
   ]
  },
  {
   "cell_type": "markdown",
   "metadata": {},
   "source": [
    "## Check system environment\n"
   ]
  },
  {
   "cell_type": "code",
   "execution_count": 2,
   "metadata": {},
   "outputs": [
    {
     "name": "stderr",
     "output_type": "stream",
     "text": [
      "WARNING: Logging before flag parsing goes to stderr.\n",
      "W0311 17:22:04.333524  9048 deprecation.py:323] From <ipython-input-2-d03a236d2262>:3: is_gpu_available (from tensorflow.python.framework.test_util) is deprecated and will be removed in a future version.\n",
      "Instructions for updating:\n",
      "Use `tf.config.list_physical_devices('GPU')` instead.\n"
     ]
    },
    {
     "name": "stdout",
     "output_type": "stream",
     "text": [
      "Tensorflow version:  2.1.0\n",
      "Is GPU available: True\n"
     ]
    }
   ],
   "source": [
    "print(\"Tensorflow version: \",tf.__version__)\n",
    "\n",
    "print(\"Is GPU available: {}\".format(tf.test.is_gpu_available()))"
   ]
  },
  {
   "cell_type": "markdown",
   "metadata": {},
   "source": [
    "## Data preparation - Import data, clean and creating structured directory\n"
   ]
  },
  {
   "cell_type": "markdown",
   "metadata": {},
   "source": [
    "### Function to import and process frames and mask as tensors"
   ]
  },
  {
   "cell_type": "code",
   "execution_count": 3,
   "metadata": {},
   "outputs": [],
   "source": [
    "def read_to_tensor(fname, output_height=256, output_width=256, normalize_data=False):\n",
    "    ''' Function to read imags from given image file path, and provide the resized images as tensors\n",
    "    Inputs:\n",
    "        fname - image file path\n",
    "        output_height - required output image height\n",
    "        output_width  - required output image width\n",
    "        normalize data - if True,normalize data to be centered around 0 ( 0 mean, range 0 - 1)\n",
    "    Outputs:\n",
    "        Processed image tensors\n",
    "        \n",
    "    '''\n",
    "    \n",
    "    # Read the image as a tensor\n",
    "    img_strings = tf.io.read_file(fname)\n",
    "    imgs_decoded = tf.image.decode_img(img_strings)\n",
    "    \n",
    "    #Resize the image\n",
    "    output = tf.image.resize(imgs_decoded,[output_height,output_weight])\n",
    "    \n",
    "    #Normalize data\n",
    "    if normalize_data:\n",
    "        output = output / 255\n",
    "    \n",
    "    return output\n",
    "    "
   ]
  },
  {
   "cell_type": "markdown",
   "metadata": {},
   "source": [
    "## Image directory and size parameters "
   ]
  },
  {
   "cell_type": "code",
   "execution_count": 5,
   "metadata": {},
   "outputs": [],
   "source": [
    "img_dir = \"..\\data\\CamSeq01\"\n",
    "\n",
    "#Required image dimensions\n",
    "IMG_HEIGHT = 256\n",
    "IMG_WIDTH = 256\n",
    "\n",
    "BATCH_SIZE = 32\n"
   ]
  },
  {
   "cell_type": "markdown",
   "metadata": {},
   "source": [
    "## Reading frames and masks\n",
    ". Mask file names end with \"_L.png\""
   ]
  },
  {
   "cell_type": "code",
   "execution_count": 6,
   "metadata": {},
   "outputs": [],
   "source": [
    "def separate_data_from_labels(img_dir):\n",
    "    '''\n",
    "    '''\n",
    "#     regexp_path = str(os.path.join(img_dir,\"*\"))\n",
    "#     list_ds = tf.data.Dataset.list_files(regexp_path)    \n",
    "#     for f in list_ds.take(5):\n",
    "#         print(f.numpy())\n",
    "\n",
    "    #Get all the file names list from the directory\n",
    "    all_file_list = [f for f in os.listdir(img_dir) if f.endswith(\".png\")]\n",
    "    print(\"Total PNG files in the folder: {}\".format(len(all_file_list)))\n",
    "    \n",
    "    # Get actual images\n",
    "    img_files_list =[os.path.join(img_dir,f) for f in all_file_list if \"_L\" not in f]\n",
    "\n",
    "    image_count = len(img_files_list)\n",
    "    # Get masks - Get the files with _L in their name\n",
    "    mask_files_list =[os.path.join(img_dir,f) for f in all_file_list if \"_L\" in f]\n",
    "    \n",
    "    print(\"Trainable frames in the folder: {}\".format(image_count))\n",
    "    print(\"Mask images in the folder: {}\".format(len(mask_files_list)))\n",
    "\n",
    "    data_list_ds = tf.data.Dataset.from_tensor_slices(img_files_list)\n",
    "    mask_list_ds = tf.data.Dataset.from_tensor_slices(mask_files_list)\n",
    "\n",
    "    \n",
    "    return data_list_ds, mask_list_ds, image_count\n",
    "\n",
    "# read_images(img_dir)\n"
   ]
  },
  {
   "cell_type": "code",
   "execution_count": 8,
   "metadata": {},
   "outputs": [
    {
     "name": "stdout",
     "output_type": "stream",
     "text": [
      "Total PNG files in the folder: 202\n",
      "Trainable frames in the folder: 101\n",
      "Mask images in the folder: 101\n"
     ]
    }
   ],
   "source": [
    "# Get the X_Train_full and Y_Train_full from the image folder\n",
    "data_list_ds,mask_list_ds,image_count = separate_data_from_labels(img_dir)\n",
    "\n",
    "# print(\"Printing first 5 dataset files\")\n",
    "# for f in data_list_ds.take(5):\n",
    "#     print(f.numpy())\n",
    "\n",
    "# print(\"Printing first 5 mask files\")\n",
    "# for f in mask_list_ds.take(5):\n",
    "#     print(f.numpy())\n",
    "\n",
    "STEPS_PER_EPOCH = np.ceil(image_count/BATCH_SIZE)"
   ]
  },
  {
   "cell_type": "code",
   "execution_count": 16,
   "metadata": {},
   "outputs": [],
   "source": [
    "def decode_img(img,_string, mask_string):\n",
    "    # Decode the image string \n",
    "    # convert the compressed string to a 3D uint8 tensor\n",
    "    img = tf.image.decode_png(img_string, channels=3)\n",
    "    # Use `convert_image_dtype` to convert to floats in the [0,1] range.\n",
    "    img = tf.image.convert_image_dtype(img, tf.float32)\n",
    "\n",
    "    # Decode the mask string \n",
    "    # convert the compressed string to a 3D uint8 tensor\n",
    "    mask = tf.image.decode_png(mask_string, channels=3)\n",
    "    # Use `convert_image_dtype` to convert to floats in the [0,1] range.\n",
    "    mask = tf.image.convert_image_dtype(mask, tf.float32)\n",
    "\n",
    "    # resize the image to the desired size.\n",
    "    return tf.image.resize(img, [IMG_WIDTH, IMG_HEIGHT]), tf.image.resize(mask, [IMG_WIDTH, IMG_HEIGHT])\n",
    "\n",
    "\n",
    "def process_path(file_path):        \n",
    "    # load the raw data from the file as a string\n",
    "    img = tf.io.read_file(file_path)\n",
    "    mask_string = tf.strings.split(file_path,'.png')\n",
    "    mask_string  =  tf.strings.join([mask_string[:-1], '_L.png'])[0]\n",
    "#     print(img)\n",
    "#     print(mask_string)\n",
    "    \n",
    "    mask = tf.io.read_file(mask_string)\n",
    "#     asd = decode_img(img, mask)\n",
    "\n",
    "    return img, mask\n",
    "\n",
    "# for f in data_list_ds.take(1):\n",
    "# #     print(f)\n",
    "# #     print(type(f.numpy()))\n",
    "#     mask_string = tf.strings.split(f,'.png')\n",
    "# #     print(type(mask_string[0]))\n",
    "    \n",
    "    \n",
    "#     out = tf.strings.join([mask_string[:-1], '_L.png'])\n",
    "# #     print(out[0])\n",
    "#     img,mask = process_path(f)\n",
    "\n"
   ]
  },
  {
   "cell_type": "code",
   "execution_count": 17,
   "metadata": {},
   "outputs": [
    {
     "name": "stdout",
     "output_type": "stream",
     "text": [
      "<ParallelMapDataset shapes: ((), ()), types: (tf.string, tf.string)>\n"
     ]
    }
   ],
   "source": [
    "# Get data and labels\n",
    "data_and_mask_ds = data_list_ds.map(process_path,num_parallel_calls=tf.data.experimental.AUTOTUNE)\n",
    "print(data_and_mask_ds)\n",
    "\n",
    "# mask_ds = label_list_ds.map(process_path,num_parallel_calls=tf.data.experimental.AUTOTUNE)\n",
    "# print(mask_ds)\n"
   ]
  },
  {
   "cell_type": "code",
   "execution_count": 91,
   "metadata": {},
   "outputs": [],
   "source": [
    "def prepare_for_training(ds, cache=True, shuffle_buffer_size=1000):\n",
    "    # This is a small dataset, only load it once, and keep it in memory.\n",
    "    # use `.cache(filename)` to cache preprocessing work for datasets that don't\n",
    "    # fit in memory.\n",
    "    if cache:\n",
    "        if isinstance(cache, str):\n",
    "            ds = ds.cache(cache)\n",
    "        else:\n",
    "            ds = ds.cache()\n",
    "\n",
    "    ds = ds.shuffle(buffer_size=shuffle_buffer_size)\n",
    "\n",
    "    # Repeat forever\n",
    "    ds = ds.repeat()\n",
    "\n",
    "    ds = ds.batch(BATCH_SIZE)\n",
    "\n",
    "    # `prefetch` lets the dataset fetch batches in the background while the model\n",
    "    # is training.\n",
    "    ds = ds.prefetch(buffer_size=AUTOTUNE)\n",
    "\n",
    "    return ds"
   ]
  },
  {
   "cell_type": "code",
   "execution_count": null,
   "metadata": {},
   "outputs": [],
   "source": [
    "# train_ds = prepare_for_training(data_ds)\n",
    "\n",
    "# image_batch, label_batch = next(iter(train_ds))"
   ]
  },
  {
   "cell_type": "code",
   "execution_count": null,
   "metadata": {},
   "outputs": [],
   "source": []
  },
  {
   "cell_type": "code",
   "execution_count": 84,
   "metadata": {},
   "outputs": [
    {
     "name": "stdout",
     "output_type": "stream",
     "text": [
      "Image shape:  (256, 256, 3)\n"
     ]
    }
   ],
   "source": [
    "# Display images and mask\n",
    "\n",
    "def show_batch(image_batch,mask_batch):\n",
    "    \n",
    "    plt.figure(figsize=(10,10))\n",
    "    for i in range(25):\n",
    "        ax = plt.subplot(5,5,i+1)\n",
    "        plt.imshow(image_batch[i])\n",
    "        plt.axis('off')\n",
    "\n",
    "\n",
    "image_batch =data_ds.take(25)\n",
    "len(list(image_batch))\n",
    "# print()\n",
    "# print(image_batch)\n",
    "# show_batch(image_batch,None)\n",
    "\n",
    "for image in data_ds.take(1):\n",
    "    print(\"Image shape: \", image.numpy().shape)\n",
    "    \n"
   ]
  },
  {
   "cell_type": "code",
   "execution_count": null,
   "metadata": {},
   "outputs": [],
   "source": []
  },
  {
   "cell_type": "code",
   "execution_count": null,
   "metadata": {},
   "outputs": [],
   "source": []
  }
 ],
 "metadata": {
  "kernelspec": {
   "display_name": "Python 3.6 (tensorflow)",
   "language": "python",
   "name": "tensorflow"
  },
  "language_info": {
   "codemirror_mode": {
    "name": "ipython",
    "version": 3
   },
   "file_extension": ".py",
   "mimetype": "text/x-python",
   "name": "python",
   "nbconvert_exporter": "python",
   "pygments_lexer": "ipython3",
   "version": "3.6.9"
  }
 },
 "nbformat": 4,
 "nbformat_minor": 2
}
